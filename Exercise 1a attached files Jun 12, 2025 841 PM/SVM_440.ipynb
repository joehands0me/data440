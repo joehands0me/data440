{
  "cells": [
    {
      "cell_type": "code",
      "execution_count": null,
      "metadata": {
        "colab": {
          "base_uri": "https://localhost:8080/"
        },
        "id": "uW76pPxuXJ6V",
        "outputId": "6ed22efd-158f-4db6-ace5-d6ab8a853e21"
      },
      "outputs": [
        {
          "name": "stdout",
          "output_type": "stream",
          "text": [
            "(386, 77)\n",
            "(166, 77)\n",
            "Training accuracy\n",
            "[[35  0  0  0  0  0  0  0]\n",
            " [ 0 48  0  0  0  0  0  0]\n",
            " [ 0  0 40  0  0  0  0  0]\n",
            " [ 0  0  0 54  0  0  0  0]\n",
            " [ 2  0  0  0 60  0  0  0]\n",
            " [ 0  0  0  0  0 51  0  0]\n",
            " [ 0  0  3  0  0  0 39  0]\n",
            " [ 0  0  0  0  0  0  0 54]]\n",
            "              precision    recall  f1-score   support\n",
            "\n",
            "           0       0.95      1.00      0.97        35\n",
            "           1       1.00      1.00      1.00        48\n",
            "           2       0.93      1.00      0.96        40\n",
            "           3       1.00      1.00      1.00        54\n",
            "           4       1.00      0.97      0.98        62\n",
            "           5       1.00      1.00      1.00        51\n",
            "           6       1.00      0.93      0.96        42\n",
            "           7       1.00      1.00      1.00        54\n",
            "\n",
            "    accuracy                           0.99       386\n",
            "   macro avg       0.98      0.99      0.99       386\n",
            "weighted avg       0.99      0.99      0.99       386\n",
            "\n",
            "Testing accuracy\n",
            "[[10  0  0  0  0  0  0  0]\n",
            " [ 0 27  0  0  0  0  0  0]\n",
            " [ 0  0 20  0  0  0  0  0]\n",
            " [ 0  0  0 21  0  0  0  0]\n",
            " [ 4  1  0  0 23  0  0  0]\n",
            " [ 0  0  0  0  0 24  0  0]\n",
            " [ 0  0  3  0  0  0 15  0]\n",
            " [ 0  0  0  0  0  0  0 18]]\n",
            "              precision    recall  f1-score   support\n",
            "\n",
            "           0       0.71      1.00      0.83        10\n",
            "           1       0.96      1.00      0.98        27\n",
            "           2       0.87      1.00      0.93        20\n",
            "           3       1.00      1.00      1.00        21\n",
            "           4       1.00      0.82      0.90        28\n",
            "           5       1.00      1.00      1.00        24\n",
            "           6       1.00      0.83      0.91        18\n",
            "           7       1.00      1.00      1.00        18\n",
            "\n",
            "    accuracy                           0.95       166\n",
            "   macro avg       0.94      0.96      0.94       166\n",
            "weighted avg       0.96      0.95      0.95       166\n",
            "\n"
          ]
        },
        {
          "name": "stderr",
          "output_type": "stream",
          "text": [
            "/opt/homebrew/Caskroom/miniconda/base/lib/python3.12/site-packages/sklearn/preprocessing/_label.py:110: DataConversionWarning: A column-vector y was passed when a 1d array was expected. Please change the shape of y to (n_samples, ), for example using ravel().\n",
            "  y = column_or_1d(y, warn=True)\n"
          ]
        }
      ],
      "source": [
        "from sklearn.datasets import fetch_openml\n",
        "#load mice protein dataset from OpenML\n",
        "mice = fetch_openml(name='miceprotein', version=4, as_frame=True)\n",
        "list(mice.frame.columns)\n",
        "#print(mice.details)\n",
        "#mice.frame.describe()\n",
        "\n",
        "\n",
        "# Import required libraries\n",
        "import numpy as np\n",
        "import sklearn\n",
        "from sklearn.neural_network import MLPClassifier\n",
        "\n",
        "\n",
        "# Import model to divide data into training and testing sets\n",
        "from sklearn.model_selection import train_test_split\n",
        "\n",
        "\n",
        "target_column = ['class']\n",
        "#derive the list of predictor column id's\n",
        "predictors = list(set(list(mice.frame.columns))-set(target_column))\n",
        "#standardize the predictors by diividing by the maximum\n",
        "mice.frame[predictors] = mice.frame[predictors]/mice.frame[predictors].max()\n",
        "#provide summary statistics for the dataframe\n",
        "mice.frame.describe().transpose()\n",
        "\n",
        "#Get rid of any rown with NA's\n",
        "mice.frame = mice.frame.dropna()\n",
        "\n",
        "#the input data\n",
        "X = mice.frame[predictors].values\n",
        "#the output data\n",
        "y = mice.frame[target_column].values\n",
        "\n",
        "#we encode target classes from strings to numbers as neural networks cannot require all numerical inputs and outputs\n",
        "from sklearn.preprocessing import LabelEncoder\n",
        "le = LabelEncoder()\n",
        "y = le.fit_transform(y)\n",
        "\n",
        "#divide data into training and test sets\n",
        "X_train, X_test, y_train, y_test = train_test_split(X, y, test_size=0.30)\n",
        "print(X_train.shape); print(X_test.shape)\n",
        "\n",
        "from sklearn import svm\n",
        "\n",
        "svm_model = svm.SVC(decision_function_shape='ovr')\n",
        "svm_model.fit(X_train, y_train)\n",
        "\n",
        "#We predict the training set\n",
        "predict_train = svm_model.predict(X_train)\n",
        "#we predict the test set\n",
        "predict_test = svm_model.predict(X_test)\n",
        "\n",
        "from sklearn.metrics import classification_report,confusion_matrix\n",
        "\n",
        "print('Training accuracy')\n",
        "#we report the confusion matrix for the training set\n",
        "print(confusion_matrix(y_train,predict_train))\n",
        "#we report various accuracy statistics for the training set\n",
        "print(classification_report(y_train,predict_train))\n",
        "\n",
        "print('Testing accuracy')\n",
        "#we report the confusion matrix for the test set\n",
        "print(confusion_matrix(y_test,predict_test))\n",
        "#we report various accuracy statistics for the test set\n",
        "print(classification_report(y_test,predict_test))\n",
        "\n"
      ]
    },
    {
      "cell_type": "code",
      "execution_count": 2,
      "metadata": {},
      "outputs": [
        {
          "name": "stdout",
          "output_type": "stream",
          "text": [
            "40966\n"
          ]
        }
      ],
      "source": [
        "print(mice.details[\"id\"])"
      ]
    },
    {
      "cell_type": "code",
      "execution_count": null,
      "metadata": {},
      "outputs": [],
      "source": []
    }
  ],
  "metadata": {
    "colab": {
      "collapsed_sections": [],
      "name": "SVM_440.ipynb",
      "provenance": []
    },
    "kernelspec": {
      "display_name": "base",
      "language": "python",
      "name": "python3"
    },
    "language_info": {
      "codemirror_mode": {
        "name": "ipython",
        "version": 3
      },
      "file_extension": ".py",
      "mimetype": "text/x-python",
      "name": "python",
      "nbconvert_exporter": "python",
      "pygments_lexer": "ipython3",
      "version": "3.12.9"
    }
  },
  "nbformat": 4,
  "nbformat_minor": 0
}
