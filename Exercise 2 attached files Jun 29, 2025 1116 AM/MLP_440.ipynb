{
  "cells": [
    {
      "cell_type": "code",
      "execution_count": 1,
      "metadata": {
        "colab": {
          "base_uri": "https://localhost:8080/"
        },
        "id": "6NRTNxKU21yt",
        "outputId": "7ccbe104-d032-486b-8c9b-3acbcd4bf433"
      },
      "outputs": [
        {
          "name": "stderr",
          "output_type": "stream",
          "text": [
            "/opt/homebrew/Caskroom/miniconda/base/lib/python3.12/site-packages/sklearn/preprocessing/_label.py:110: DataConversionWarning: A column-vector y was passed when a 1d array was expected. Please change the shape of y to (n_samples, ), for example using ravel().\n",
            "  y = column_or_1d(y, warn=True)\n"
          ]
        },
        {
          "name": "stdout",
          "output_type": "stream",
          "text": [
            "(386, 77)\n",
            "(166, 77)\n",
            "Training accuracy\n",
            "[[29  0  0  0  0  0  0  0]\n",
            " [ 0 55  0  0  0  0  0  0]\n",
            " [ 0  0 44  0  0  0  0  0]\n",
            " [ 0  0  0 48  0  0  0  0]\n",
            " [ 0  0  0  0 66  0  0  0]\n",
            " [ 0  0  0  0  0 52  0  0]\n",
            " [ 0  0  0  0  0  0 42  0]\n",
            " [ 0  0  0  0  0  0  0 50]]\n",
            "              precision    recall  f1-score   support\n",
            "\n",
            "           0       1.00      1.00      1.00        29\n",
            "           1       1.00      1.00      1.00        55\n",
            "           2       1.00      1.00      1.00        44\n",
            "           3       1.00      1.00      1.00        48\n",
            "           4       1.00      1.00      1.00        66\n",
            "           5       1.00      1.00      1.00        52\n",
            "           6       1.00      1.00      1.00        42\n",
            "           7       1.00      1.00      1.00        50\n",
            "\n",
            "    accuracy                           1.00       386\n",
            "   macro avg       1.00      1.00      1.00       386\n",
            "weighted avg       1.00      1.00      1.00       386\n",
            "\n",
            "Testing accuracy\n",
            "[[16  0  0  0  0  0  0  0]\n",
            " [ 0 20  0  0  0  0  0  0]\n",
            " [ 0  0 14  1  0  0  1  0]\n",
            " [ 0  0  0 27  0  0  0  0]\n",
            " [ 0  1  0  0 22  1  0  0]\n",
            " [ 0  0  0  0  0 23  0  0]\n",
            " [ 0  0  0  0  0  0 18  0]\n",
            " [ 0  0  0  0  0  0  0 22]]\n",
            "              precision    recall  f1-score   support\n",
            "\n",
            "           0       1.00      1.00      1.00        16\n",
            "           1       0.95      1.00      0.98        20\n",
            "           2       1.00      0.88      0.93        16\n",
            "           3       0.96      1.00      0.98        27\n",
            "           4       1.00      0.92      0.96        24\n",
            "           5       0.96      1.00      0.98        23\n",
            "           6       0.95      1.00      0.97        18\n",
            "           7       1.00      1.00      1.00        22\n",
            "\n",
            "    accuracy                           0.98       166\n",
            "   macro avg       0.98      0.97      0.97       166\n",
            "weighted avg       0.98      0.98      0.98       166\n",
            "\n"
          ]
        }
      ],
      "source": [
        "from sklearn.datasets import fetch_openml\n",
        "#load mice protein dataset from OpenML\n",
        "mice = fetch_openml(name='miceprotein', version=4, as_frame=True)\n",
        "list(mice.frame.columns)\n",
        "#print(mice.details)\n",
        "#mice.frame.describe()\n",
        "\n",
        "\n",
        "# Import required libraries\n",
        "import numpy as np\n",
        "import sklearn\n",
        "from sklearn.neural_network import MLPClassifier\n",
        "\n",
        "\n",
        "# Import model to divide data into training and testing sets\n",
        "from sklearn.model_selection import train_test_split\n",
        "\n",
        "\n",
        "target_column = ['class']\n",
        "#derive the list of predictor column id's\n",
        "predictors = list(set(list(mice.frame.columns))-set(target_column))\n",
        "#standardize the predictors by diividing by the maximum\n",
        "mice.frame[predictors] = mice.frame[predictors]/mice.frame[predictors].max()\n",
        "#provide summary statistics for the dataframe\n",
        "mice.frame.describe().transpose()\n",
        "\n",
        "#Get rid of any rown with NA's\n",
        "mice.frame = mice.frame.dropna()\n",
        "\n",
        "#the input data\n",
        "X = mice.frame[predictors].values\n",
        "#the output data\n",
        "y = mice.frame[target_column].values\n",
        "\n",
        "#we encode target classes from strings to numbers as neural networks cannot require all numerical inputs and outputs\n",
        "from sklearn.preprocessing import LabelEncoder\n",
        "le = LabelEncoder()\n",
        "y = le.fit_transform(y)\n",
        "\n",
        "#divide data into training and test sets\n",
        "X_train, X_test, y_train, y_test = train_test_split(X, y, test_size=0.30)\n",
        "print(X_train.shape); print(X_test.shape)\n",
        "\n",
        "#import the neural network (aka multi-layer-perceptron library)\n",
        "from sklearn.neural_network import MLPClassifier\n",
        "\n",
        "#The network architecture will consist of 1 input layer that has as many input nodes as columns-1, 3 hidden layers of 20 nodes each,\n",
        "# and an output layer with a node for each of the categories--and the network will choose the one with the highest score\n",
        "mlp = MLPClassifier(hidden_layer_sizes=(15,15,15), activation='relu', solver='adam', max_iter=2000)\n",
        "#mlp = MLPClassifier(hidden_layer_sizes=(20,20,20), activation='relu', solver='adam', max_iter=5000)\n",
        "#we train the network\n",
        "mlp.fit(X_train,y_train)\n",
        "\n",
        "#We predict the training set\n",
        "predict_train = mlp.predict(X_train)\n",
        "#we predict the test set\n",
        "predict_test = mlp.predict(X_test)\n",
        "\n",
        "from sklearn.metrics import classification_report,confusion_matrix\n",
        "\n",
        "print('Training accuracy')\n",
        "#we report the confusion matrix for the training set\n",
        "print(confusion_matrix(y_train,predict_train))\n",
        "#we report various accuracy statistics for the training set\n",
        "print(classification_report(y_train,predict_train))\n",
        "\n",
        "print('Testing accuracy')\n",
        "#we report the confusion matrix for the test set\n",
        "print(confusion_matrix(y_test,predict_test))\n",
        "#we report various accuracy statistics for the test set\n",
        "print(classification_report(y_test,predict_test))\n",
        "\n",
        "#Now rerun but above change the network architecture to\n",
        "#mlp = MLPClassifier(hidden_layer_sizes=(20,20,20), activation='relu', solver='adam', max_iter=5000)\n"
      ]
    },
    {
      "cell_type": "code",
      "execution_count": 2,
      "metadata": {},
      "outputs": [
        {
          "name": "stdout",
          "output_type": "stream",
          "text": [
            "40966\n"
          ]
        }
      ],
      "source": [
        "print(mice.details[\"id\"])"
      ]
    },
    {
      "cell_type": "markdown",
      "metadata": {},
      "source": [
        "#### Increasing neurons from 15 -> 20<br>for up to 5000 iterations"
      ]
    },
    {
      "cell_type": "code",
      "execution_count": 3,
      "metadata": {},
      "outputs": [
        {
          "name": "stdout",
          "output_type": "stream",
          "text": [
            "Training accuracy, increased neuron counts + 5000 iterations\n",
            "[[29  0  0  0  0  0  0  0]\n",
            " [ 0 55  0  0  0  0  0  0]\n",
            " [ 0  0 44  0  0  0  0  0]\n",
            " [ 0  0  0 48  0  0  0  0]\n",
            " [ 0  0  0  0 66  0  0  0]\n",
            " [ 0  0  0  0  0 52  0  0]\n",
            " [ 0  0  0  0  0  0 42  0]\n",
            " [ 0  0  0  0  0  0  0 50]]\n",
            "              precision    recall  f1-score   support\n",
            "\n",
            "           0       1.00      1.00      1.00        29\n",
            "           1       1.00      1.00      1.00        55\n",
            "           2       1.00      1.00      1.00        44\n",
            "           3       1.00      1.00      1.00        48\n",
            "           4       1.00      1.00      1.00        66\n",
            "           5       1.00      1.00      1.00        52\n",
            "           6       1.00      1.00      1.00        42\n",
            "           7       1.00      1.00      1.00        50\n",
            "\n",
            "    accuracy                           1.00       386\n",
            "   macro avg       1.00      1.00      1.00       386\n",
            "weighted avg       1.00      1.00      1.00       386\n",
            "\n",
            "Testing accuracy, increased neuron counts + 5000 iterations\n",
            "[[16  0  0  0  0  0  0  0]\n",
            " [ 0 20  0  0  0  0  0  0]\n",
            " [ 0  0 15  0  0  0  1  0]\n",
            " [ 0  0  0 27  0  0  0  0]\n",
            " [ 0  1  0  0 23  0  0  0]\n",
            " [ 0  0  0  0  0 23  0  0]\n",
            " [ 0  0  0  0  0  0 17  1]\n",
            " [ 0  0  0  0  0  0  0 22]]\n",
            "              precision    recall  f1-score   support\n",
            "\n",
            "           0       1.00      1.00      1.00        16\n",
            "           1       0.95      1.00      0.98        20\n",
            "           2       1.00      0.94      0.97        16\n",
            "           3       1.00      1.00      1.00        27\n",
            "           4       1.00      0.96      0.98        24\n",
            "           5       1.00      1.00      1.00        23\n",
            "           6       0.94      0.94      0.94        18\n",
            "           7       0.96      1.00      0.98        22\n",
            "\n",
            "    accuracy                           0.98       166\n",
            "   macro avg       0.98      0.98      0.98       166\n",
            "weighted avg       0.98      0.98      0.98       166\n",
            "\n"
          ]
        }
      ],
      "source": [
        "mlp5k = MLPClassifier(hidden_layer_sizes=(20,20,20), activation='relu', solver='adam', max_iter=5000)\n",
        "#we train the network\n",
        "mlp5k.fit(X_train,y_train)\n",
        "\n",
        "#We predict the training set\n",
        "predict_train5k = mlp5k.predict(X_train)\n",
        "#we predict the test set\n",
        "predict_test5k = mlp5k.predict(X_test)\n",
        "\n",
        "from sklearn.metrics import classification_report,confusion_matrix\n",
        "\n",
        "print('Training accuracy, increased neuron counts + 5000 iterations')\n",
        "#we report the confusion matrix for the training set\n",
        "print(confusion_matrix(y_train,predict_train5k))\n",
        "#we report various accuracy statistics for the training set\n",
        "print(classification_report(y_train,predict_train5k))\n",
        "\n",
        "print('Testing accuracy, increased neuron counts + 5000 iterations')\n",
        "#we report the confusion matrix for the test set\n",
        "print(confusion_matrix(y_test,predict_test5k))\n",
        "#we report various accuracy statistics for the test set\n",
        "print(classification_report(y_test,predict_test5k))\n"
      ]
    },
    {
      "cell_type": "code",
      "execution_count": null,
      "metadata": {},
      "outputs": [],
      "source": []
    }
  ],
  "metadata": {
    "colab": {
      "collapsed_sections": [],
      "name": "MLP_440.ipynb",
      "provenance": []
    },
    "kernelspec": {
      "display_name": "base",
      "language": "python",
      "name": "python3"
    },
    "language_info": {
      "codemirror_mode": {
        "name": "ipython",
        "version": 3
      },
      "file_extension": ".py",
      "mimetype": "text/x-python",
      "name": "python",
      "nbconvert_exporter": "python",
      "pygments_lexer": "ipython3",
      "version": "3.12.9"
    }
  },
  "nbformat": 4,
  "nbformat_minor": 0
}
